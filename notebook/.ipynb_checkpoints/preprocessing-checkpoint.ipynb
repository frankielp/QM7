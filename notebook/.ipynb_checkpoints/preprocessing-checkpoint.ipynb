{
 "cells": [
  {
   "cell_type": "markdown",
   "id": "8d6d664d",
   "metadata": {},
   "source": [
    "# QM7 Dataset\n",
    "\n",
    "This dataset is a subset of GDB-13 (a database of nearly 1 billion stable and synthetically accessible organic molecules) composed of all molecules of up to 23 atoms (including 7 heavy atoms C, N, O, and S), totalling 7165 molecules. We provide the Coulomb matrix representation of these molecules and their atomization energies computed similarly to the FHI-AIMS implementation of the Perdew-Burke-Ernzerhof hybrid functional (PBE0). This dataset features a large variety of molecular structures such as double and triple bonds, cycles, carboxy, cyanide, amide, alcohol and epoxy. \n",
    "\n",
    "The Coulomb matrix is defined as:\n",
    "  * $C_{i,i} = 0.5 \\cdot Z^{2.4}$  \n",
    "  * $C_{i,j} =   \\frac{Z_i\\cdot Z_j}{|(R_i−R_j)|}$ \n",
    "  * $Z_i$ - nuclear charge of atom i  \n",
    "  * $R_i$ - cartesian coordinates of atom i  \n",
    "\n",
    "The data file (.mat format) contains five arrays:  \n",
    "  * \"X\" - (7165 x 23 x 23), Coulomb matrices  \n",
    "  * \"T\" - (7165), atomization energies (unit: kcal/mol)  \n",
    "  * \"P\" - (5 x 1433), cross-validation splits as used in [Montavon et al. NIPS, 2012]  \n",
    "  * \"Z\" - (7165 x 23), atomic charges  \n",
    "  * \"R\" - (7165 x 23 x 3), cartesian coordinate (unit: Bohr) of each atom in the molecules   \n"
   ]
  },
  {
   "cell_type": "markdown",
   "id": "41a69db1",
   "metadata": {},
   "source": [
    "# Library"
   ]
  },
  {
   "cell_type": "code",
   "execution_count": null,
   "id": "0ffd4f6d",
   "metadata": {},
   "outputs": [],
   "source": [
    "import pandas as pd\n",
    "import scipy.io\n",
    "import numpy as np\n",
    "from scipy.spatial.distance import pdist, squareform\n",
    "import networkx as nx\n",
    "import matplotlib.pyplot as plt\n",
    "import seaborn as sns\n",
    "%matplotlib inline\n",
    "import torch\n",
    "import time\n",
    "from tqdm.notebook import tqdm\n",
    "import os\n",
    "\n",
    "import warnings\n",
    "warnings.simplefilter('ignore')\n",
    "\n",
    "rand_state = 42\n",
    "np.random.seed(rand_state)"
   ]
  },
  {
   "cell_type": "markdown",
   "id": "fd3cfeae",
   "metadata": {},
   "source": [
    "# Feature Engineer\n",
    "Step:\n",
    "1. Take upper half of the matrix (because A[i,j]=A[j,i] => reduce compute step)\n",
    "2. Calculate distance matrix (using R)\n",
    "3. Calculate eigenvalue and eigenvector centralities (Katz Index) (how important one node/atoms compare to others in the molecules)"
   ]
  },
  {
   "cell_type": "code",
   "execution_count": null,
   "id": "b5f06938",
   "metadata": {},
   "outputs": [],
   "source": [
    "qm7 = scipy.io.loadmat('../data/qm7.mat')"
   ]
  },
  {
   "cell_type": "code",
   "execution_count": null,
   "id": "c03e5e63",
   "metadata": {},
   "outputs": [],
   "source": [
    "# Cartesian Coordinate matrix\n",
    "R=qm7['R']\n",
    "\n",
    "\n",
    "# Reshape energy to (7165,) and normalize\n",
    "y = np.transpose(qm7['T']).reshape((7165,))\n",
    "std=(y-y.mean()).std()\n",
    "y_scaled = (y -y.mean())/ std\n",
    "y_scaled.shape"
   ]
  },
  {
   "cell_type": "code",
   "execution_count": null,
   "id": "756393c1",
   "metadata": {},
   "outputs": [],
   "source": [
    "## Step 1: Take upper half\n",
    "# (idx) to access the elements of the matrix in the upper triangle including the diagonal (k=0). \n",
    "# (idx_dist) to access the elements of the distance matrix in the upper triangle excluding the diagonal (k=1).\n",
    "num_atoms = 23\n",
    "idx = np.triu_indices(num_atoms,k=0) \n",
    "idx_dist = np.triu_indices(num_atoms,k=1)\n"
   ]
  },
  {
   "cell_type": "code",
   "execution_count": null,
   "id": "a1b5da73",
   "metadata": {},
   "outputs": [],
   "source": [
    "# Initialize placeholder\n",
    "coulomb_matrix = np.zeros((qm7['X'].shape[0], num_atoms*(num_atoms+1)//2), dtype=float)\n",
    "eigs = np.zeros((qm7['X'].shape[0], num_atoms), dtype=float)\n",
    "centralities = np.zeros((qm7['X'].shape[0], num_atoms), dtype=float)\n",
    "dist_matrix = np.zeros((qm7['X'].shape[0], ((num_atoms*num_atoms)-num_atoms)//2), dtype=float)"
   ]
  },
  {
   "cell_type": "code",
   "execution_count": null,
   "id": "08340e99",
   "metadata": {},
   "outputs": [],
   "source": [
    "for i in tqdm(range(len(qm7['X']))):\n",
    "    # Extract the Coulomb vector from the Coulomb matrix (cm) and sort the elements in descending order.\n",
    "    cm=qm7['X'][i]\n",
    "    coulomb_vector = cm[idx]\n",
    "    sorted_cv = np.argsort(-coulomb_vector)\n",
    "    coulomb_matrix[i] = coulomb_vector[sorted_cv]\n",
    "\n",
    "    ## Step 2: Compute the distance matrix (dist) from the coordinate matrix (R)\n",
    "    # Extract the distance vector from the distance matrix, then sort the elements in descending order.\n",
    "    dist = squareform(pdist(R[i]))\n",
    "    dist_vector = dist[idx_dist]\n",
    "    sorted_dv = np.argsort(-dist_vector)\n",
    "    dist_matrix[i] = dist_vector[sorted_dv]\n",
    "\n",
    "    \n",
    "    # Compute the eigenvalues (w) and eigenvectors (v) of the distance matrix.\n",
    "    eig_value, eig_vector = np.linalg.eig(dist)\n",
    "    eigs[i] = eig_value[np.argsort(-eig_value)]\n",
    "\n",
    "    ## Step 3: Compute the eigenvector centrality of the graph created from the distance matrix\n",
    "    # Assign the centrality values to the corresponding row in the centralities matrix.\n",
    "    centralities[i] = np.array(list(nx.eigenvector_centrality(nx.Graph(dist)).values()))"
   ]
  },
  {
   "cell_type": "code",
   "execution_count": null,
   "id": "3bdeb6f8",
   "metadata": {},
   "outputs": [],
   "source": [
    "X = np.concatenate((coulomb_matrix, eigs, centralities, dist_matrix), axis=1)\n",
    "X.shape"
   ]
  },
  {
   "cell_type": "markdown",
   "id": "a6010f50",
   "metadata": {},
   "source": [
    "# Visualize"
   ]
  },
  {
   "cell_type": "code",
   "execution_count": null,
   "id": "ddb9e331",
   "metadata": {},
   "outputs": [],
   "source": [
    "plt.figure(figsize=(8,6))\n",
    "sns.distplot(y)\n",
    "plt.xlabel('Energy (kcal/mol)')\n",
    "plt.ylabel('Probability')\n",
    "plt.title('Distribution of Atomization Energy')\n",
    "plt.show()"
   ]
  },
  {
   "cell_type": "code",
   "execution_count": null,
   "id": "4e722c42",
   "metadata": {
    "scrolled": true
   },
   "outputs": [],
   "source": [
    "plt.figure(figsize=(8,6))\n",
    "sns.distplot(dist_matrix)\n",
    "plt.xlabel('Interatomic Distance')\n",
    "plt.ylabel('Probability')\n",
    "plt.title('Distribution of interatomic distances')\n",
    "plt.show()"
   ]
  },
  {
   "cell_type": "markdown",
   "id": "2d20cffe",
   "metadata": {},
   "source": [
    "# Saving"
   ]
  },
  {
   "cell_type": "code",
   "execution_count": null,
   "id": "5386fef8",
   "metadata": {},
   "outputs": [],
   "source": [
    "path='../data'\n",
    "data = {\n",
    "    'X': X,\n",
    "    'y': y\n",
    "}\n",
    "\n",
    "# Save the dictionary as a .mat file\n",
    "scipy.io.savemat(os.path.join(path,'preprocessed.mat'), data)"
   ]
  }
 ],
 "metadata": {
  "kernelspec": {
   "display_name": "Python 3 (ipykernel)",
   "language": "python",
   "name": "python3"
  },
  "language_info": {
   "codemirror_mode": {
    "name": "ipython",
    "version": 3
   },
   "file_extension": ".py",
   "mimetype": "text/x-python",
   "name": "python",
   "nbconvert_exporter": "python",
   "pygments_lexer": "ipython3",
   "version": "3.8.10"
  }
 },
 "nbformat": 4,
 "nbformat_minor": 5
}
